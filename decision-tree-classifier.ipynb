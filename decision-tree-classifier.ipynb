{
 "cells": [
  {
   "cell_type": "code",
   "execution_count": 1,
   "id": "61c41236",
   "metadata": {
    "_cell_guid": "b1076dfc-b9ad-4769-8c92-a6c4dae69d19",
    "_uuid": "8f2839f25d086af736a60e9eeb907d3b93b6e0e5",
    "execution": {
     "iopub.execute_input": "2023-01-16T19:38:28.423947Z",
     "iopub.status.busy": "2023-01-16T19:38:28.423182Z",
     "iopub.status.idle": "2023-01-16T19:38:28.442328Z",
     "shell.execute_reply": "2023-01-16T19:38:28.440962Z"
    },
    "papermill": {
     "duration": 0.030029,
     "end_time": "2023-01-16T19:38:28.446058",
     "exception": false,
     "start_time": "2023-01-16T19:38:28.416029",
     "status": "completed"
    },
    "tags": []
   },
   "outputs": [
    {
     "name": "stdout",
     "output_type": "stream",
     "text": [
      "/kaggle/input/titanic/train.csv\n",
      "/kaggle/input/titanic/test.csv\n",
      "/kaggle/input/titanic/gender_submission.csv\n"
     ]
    }
   ],
   "source": [
    "# This Python 3 environment comes with many helpful analytics libraries installed\n",
    "# It is defined by the kaggle/python Docker image: https://github.com/kaggle/docker-python\n",
    "# For example, here's several helpful packages to load\n",
    "\n",
    "import numpy as np # linear algebra\n",
    "import pandas as pd # data processing, CSV file I/O (e.g. pd.read_csv)\n",
    "\n",
    "# Input data files are available in the read-only \"../input/\" directory\n",
    "# For example, running this (by clicking run or pressing Shift+Enter) will list all files under the input directory\n",
    "\n",
    "import os\n",
    "for dirname, _, filenames in os.walk('/kaggle/input'):\n",
    "    for filename in filenames:\n",
    "        print(os.path.join(dirname, filename))\n",
    "\n",
    "# You can write up to 20GB to the current directory (/kaggle/working/) that gets preserved as output when you create a version using \"Save & Run All\" \n",
    "# You can also write temporary files to /kaggle/temp/, but they won't be saved outside of the current session"
   ]
  },
  {
   "cell_type": "code",
   "execution_count": 2,
   "id": "ecf5382f",
   "metadata": {
    "execution": {
     "iopub.execute_input": "2023-01-16T19:38:28.455885Z",
     "iopub.status.busy": "2023-01-16T19:38:28.455040Z",
     "iopub.status.idle": "2023-01-16T19:38:28.480226Z",
     "shell.execute_reply": "2023-01-16T19:38:28.478435Z"
    },
    "papermill": {
     "duration": 0.034283,
     "end_time": "2023-01-16T19:38:28.483920",
     "exception": false,
     "start_time": "2023-01-16T19:38:28.449637",
     "status": "completed"
    },
    "tags": []
   },
   "outputs": [],
   "source": [
    "train_data = pd.read_csv(\"/kaggle/input/titanic/train.csv\")"
   ]
  },
  {
   "cell_type": "code",
   "execution_count": 3,
   "id": "e72d226b",
   "metadata": {
    "execution": {
     "iopub.execute_input": "2023-01-16T19:38:28.493127Z",
     "iopub.status.busy": "2023-01-16T19:38:28.492597Z",
     "iopub.status.idle": "2023-01-16T19:38:28.506574Z",
     "shell.execute_reply": "2023-01-16T19:38:28.504998Z"
    },
    "papermill": {
     "duration": 0.022541,
     "end_time": "2023-01-16T19:38:28.510023",
     "exception": false,
     "start_time": "2023-01-16T19:38:28.487482",
     "status": "completed"
    },
    "tags": []
   },
   "outputs": [],
   "source": [
    "test_data = pd.read_csv(\"/kaggle/input/titanic/test.csv\")"
   ]
  },
  {
   "cell_type": "code",
   "execution_count": 4,
   "id": "063f0473",
   "metadata": {
    "execution": {
     "iopub.execute_input": "2023-01-16T19:38:28.519639Z",
     "iopub.status.busy": "2023-01-16T19:38:28.519109Z",
     "iopub.status.idle": "2023-01-16T19:38:28.546952Z",
     "shell.execute_reply": "2023-01-16T19:38:28.545787Z"
    },
    "papermill": {
     "duration": 0.036971,
     "end_time": "2023-01-16T19:38:28.550397",
     "exception": false,
     "start_time": "2023-01-16T19:38:28.513426",
     "status": "completed"
    },
    "tags": []
   },
   "outputs": [],
   "source": [
    "features = [\"Pclass\", \"Sex\", \"SibSp\", \"Parch\"]\n",
    "\n",
    "y = train_data[\"Survived\"]\n",
    "X = pd.get_dummies(train_data[features])\n",
    "X_test = pd.get_dummies(test_data[features])\n"
   ]
  },
  {
   "cell_type": "code",
   "execution_count": 5,
   "id": "dbf3ad1c",
   "metadata": {
    "execution": {
     "iopub.execute_input": "2023-01-16T19:38:28.560559Z",
     "iopub.status.busy": "2023-01-16T19:38:28.559263Z",
     "iopub.status.idle": "2023-01-16T19:38:30.016177Z",
     "shell.execute_reply": "2023-01-16T19:38:30.014882Z"
    },
    "papermill": {
     "duration": 1.46543,
     "end_time": "2023-01-16T19:38:30.019605",
     "exception": false,
     "start_time": "2023-01-16T19:38:28.554175",
     "status": "completed"
    },
    "tags": []
   },
   "outputs": [],
   "source": [
    "from sklearn.tree import DecisionTreeClassifier\n",
    "\n",
    "# Instantiate a DecisionTreeClassifier 'dt' with a maximum depth of 6 and random state of 2\n",
    "dt = DecisionTreeClassifier(max_depth=6, random_state=2)\n",
    "\n",
    "# Fit dt to the training set\n",
    "dt.fit(X, y)\n",
    "\n",
    "# Predict test set labels\n",
    "predictions = dt.predict(X_test)"
   ]
  },
  {
   "cell_type": "code",
   "execution_count": 6,
   "id": "ffa12a0d",
   "metadata": {
    "execution": {
     "iopub.execute_input": "2023-01-16T19:38:30.028908Z",
     "iopub.status.busy": "2023-01-16T19:38:30.027860Z",
     "iopub.status.idle": "2023-01-16T19:38:30.037030Z",
     "shell.execute_reply": "2023-01-16T19:38:30.035799Z"
    },
    "papermill": {
     "duration": 0.017032,
     "end_time": "2023-01-16T19:38:30.040136",
     "exception": false,
     "start_time": "2023-01-16T19:38:30.023104",
     "status": "completed"
    },
    "tags": []
   },
   "outputs": [],
   "source": [
    "output_dtc = pd.DataFrame({'PassengerId': test_data.PassengerId, 'Survived': predictions})"
   ]
  },
  {
   "cell_type": "code",
   "execution_count": 7,
   "id": "e46ed608",
   "metadata": {
    "execution": {
     "iopub.execute_input": "2023-01-16T19:38:30.048468Z",
     "iopub.status.busy": "2023-01-16T19:38:30.047987Z",
     "iopub.status.idle": "2023-01-16T19:38:30.057792Z",
     "shell.execute_reply": "2023-01-16T19:38:30.056314Z"
    },
    "papermill": {
     "duration": 0.017786,
     "end_time": "2023-01-16T19:38:30.061163",
     "exception": false,
     "start_time": "2023-01-16T19:38:30.043377",
     "status": "completed"
    },
    "tags": []
   },
   "outputs": [],
   "source": [
    "output_dtc.to_csv('dtc_submission.csv', index=False)"
   ]
  },
  {
   "cell_type": "code",
   "execution_count": null,
   "id": "70d09797",
   "metadata": {
    "papermill": {
     "duration": 0.002835,
     "end_time": "2023-01-16T19:38:30.067286",
     "exception": false,
     "start_time": "2023-01-16T19:38:30.064451",
     "status": "completed"
    },
    "tags": []
   },
   "outputs": [],
   "source": []
  }
 ],
 "metadata": {
  "kernelspec": {
   "display_name": "Python 3",
   "language": "python",
   "name": "python3"
  },
  "language_info": {
   "codemirror_mode": {
    "name": "ipython",
    "version": 3
   },
   "file_extension": ".py",
   "mimetype": "text/x-python",
   "name": "python",
   "nbconvert_exporter": "python",
   "pygments_lexer": "ipython3",
   "version": "3.7.12"
  },
  "papermill": {
   "default_parameters": {},
   "duration": 12.892093,
   "end_time": "2023-01-16T19:38:30.894791",
   "environment_variables": {},
   "exception": null,
   "input_path": "__notebook__.ipynb",
   "output_path": "__notebook__.ipynb",
   "parameters": {},
   "start_time": "2023-01-16T19:38:18.002698",
   "version": "2.3.4"
  }
 },
 "nbformat": 4,
 "nbformat_minor": 5
}
